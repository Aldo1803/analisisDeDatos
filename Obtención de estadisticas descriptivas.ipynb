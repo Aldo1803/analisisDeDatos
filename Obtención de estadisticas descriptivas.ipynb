{
 "cells": [
  {
   "cell_type": "markdown",
   "id": "90699954",
   "metadata": {},
   "source": [
    "# Obtención de Estadisticas Descriptivas\n",
    "\n",
    "**Integrantes:**\n",
    "\n",
    "Yahir Rivera Huerta\n",
    "\n",
    "Aldo Parada\n",
    "\n",
    "Jacob Valdenegro\n",
    "\n",
    "Dilan Ocampo\n",
    "\n",
    "Roberto Rillo\n",
    "\n"
   ]
  },
  {
   "cell_type": "code",
   "execution_count": 6,
   "id": "04af83ab",
   "metadata": {},
   "outputs": [
    {
     "name": "stdout",
     "output_type": "stream",
     "text": [
      "Media:  151.8013698630137\n",
      "Mediana: 76.5\n",
      "Desviación estándar:  232.77666134532484\n"
     ]
    }
   ],
   "source": [
    "import pandas as pd\n",
    "\n",
    "df = pd.read_csv(\"Capacitados_vida_humana_mar.csv\")\n",
    "\n",
    "print('Media: ', df['numero_pescadores_capacitados'].mean())\n",
    "print('Mediana:', df['numero_pescadores_capacitados'].median())\n",
    "print('Desviación estándar: ', df['numero_pescadores_capacitados'].std())\n",
    "\n"
   ]
  },
  {
   "cell_type": "code",
   "execution_count": 4,
   "id": "838b10f8",
   "metadata": {},
   "outputs": [
    {
     "name": "stdout",
     "output_type": "stream",
     "text": [
      "Moda:  25\n"
     ]
    }
   ],
   "source": [
    "moda = pd.Series(df['clave_estado'].values.flatten()).mode()[0]\n",
    "print('Moda: ', moda)"
   ]
  },
  {
   "cell_type": "code",
   "execution_count": null,
   "id": "60fbd966",
   "metadata": {},
   "outputs": [],
   "source": [
    "## Podemos concluir que el promedio de pescadores por entidad son 152 y con esto sabemos que la cantidad de pescadores varía en 233 por entidad\n",
    "## Y con la moda sabemos que el estado con más egresados de los cursos de pesca es Sinaloa "
   ]
  }
 ],
 "metadata": {
  "kernelspec": {
   "display_name": "Python 3 (ipykernel)",
   "language": "python",
   "name": "python3"
  },
  "language_info": {
   "codemirror_mode": {
    "name": "ipython",
    "version": 3
   },
   "file_extension": ".py",
   "mimetype": "text/x-python",
   "name": "python",
   "nbconvert_exporter": "python",
   "pygments_lexer": "ipython3",
   "version": "3.9.7"
  }
 },
 "nbformat": 4,
 "nbformat_minor": 5
}
